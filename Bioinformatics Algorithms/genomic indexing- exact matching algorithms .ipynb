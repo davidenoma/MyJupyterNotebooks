{
 "cells": [
  {
   "cell_type": "code",
   "execution_count": 1,
   "metadata": {},
   "outputs": [
    {
     "ename": "NameError",
     "evalue": "name 'hi' is not defined",
     "output_type": "error",
     "traceback": [
      "\u001b[1;31m---------------------------------------------------------------------------\u001b[0m",
      "\u001b[1;31mNameError\u001b[0m                                 Traceback (most recent call last)",
      "\u001b[1;32m<ipython-input-1-55ca6286e3e4>\u001b[0m in \u001b[0;36m<module>\u001b[1;34m()\u001b[0m\n\u001b[1;32m----> 1\u001b[1;33m \u001b[0mhi\u001b[0m\u001b[1;33m\u001b[0m\u001b[0m\n\u001b[0m",
      "\u001b[1;31mNameError\u001b[0m: name 'hi' is not defined"
     ]
    }
   ],
   "source": [
    "hi\n"
   ]
  },
  {
   "cell_type": "code",
   "execution_count": 2,
   "metadata": {},
   "outputs": [
    {
     "name": "stdout",
     "output_type": "stream",
     "text": [
      "hie\n"
     ]
    }
   ],
   "source": [
    "print('hie')"
   ]
  },
  {
   "cell_type": "code",
   "execution_count": 5,
   "metadata": {},
   "outputs": [
    {
     "ename": "ImportError",
     "evalue": "cannot import name 'plot' from 'matplotlib' (C:\\Users\\koralis\\Anaconda3\\lib\\site-packages\\matplotlib\\__init__.py)",
     "output_type": "error",
     "traceback": [
      "\u001b[1;31m---------------------------------------------------------------------------\u001b[0m",
      "\u001b[1;31mImportError\u001b[0m                               Traceback (most recent call last)",
      "\u001b[1;32m<ipython-input-5-226b6ffb400d>\u001b[0m in \u001b[0;36m<module>\u001b[1;34m()\u001b[0m\n\u001b[1;32m----> 1\u001b[1;33m \u001b[1;32mfrom\u001b[0m \u001b[0mmatplotlib\u001b[0m \u001b[1;32mimport\u001b[0m \u001b[0mplot\u001b[0m\u001b[1;33m\u001b[0m\u001b[0m\n\u001b[0m",
      "\u001b[1;31mImportError\u001b[0m: cannot import name 'plot' from 'matplotlib' (C:\\Users\\koralis\\Anaconda3\\lib\\site-packages\\matplotlib\\__init__.py)"
     ]
    }
   ],
   "source": [
    "from matplotlib import plot\n"
   ]
  },
  {
   "cell_type": "code",
   "execution_count": 6,
   "metadata": {},
   "outputs": [],
   "source": [
    "a = [1,3,3,6,8,8,9,10]\n",
    "import bisect\n"
   ]
  },
  {
   "cell_type": "code",
   "execution_count": 17,
   "metadata": {},
   "outputs": [
    {
     "data": {
      "text/plain": [
       "6"
      ]
     },
     "execution_count": 17,
     "metadata": {},
     "output_type": "execute_result"
    }
   ],
   "source": [
    "bisect.bisect_right(a,8)"
   ]
  },
  {
   "cell_type": "code",
   "execution_count": 26,
   "metadata": {},
   "outputs": [],
   "source": [
    "class Index(object):\n",
    "    #on the inititation of this object, \n",
    "    #I presume that the self argument is the argument that \n",
    "    def __init__(self, t, k):\n",
    "        self.k = k \n",
    "        self.index = []\n",
    "        for i in range(len(t) - k + 1):\n",
    "            self.index.append((t[i:i+k], i))\n",
    "        self.index.sort()\n",
    "        \n",
    "    def query(self, p):\n",
    "        kmer = p[:self.k]\n",
    "        i = bisect.bisect_left(self.index, (kmer, -1))\n",
    "        hits = []\n",
    "        while i < len(self.index):\n",
    "            if self.index[i][0] != kmer:\n",
    "                break\n",
    "            hits.append(self.index[i][1])\n",
    "            i += 1\n",
    "        return hits\n",
    "        \n",
    "            \n",
    "            \n",
    "    "
   ]
  },
  {
   "cell_type": "code",
   "execution_count": 32,
   "metadata": {},
   "outputs": [],
   "source": [
    "def queryIndex(p,t,index):\n",
    "    k = index.k\n",
    "    offsets = []\n",
    "    for i in index.query(p):\n",
    "        if p[k:] == t [i+k:i+len(p)]:\n",
    "            offsets.append(i)\n",
    "    return offsets "
   ]
  },
  {
   "cell_type": "code",
   "execution_count": 33,
   "metadata": {},
   "outputs": [],
   "source": [
    "t = 'GCTACGATCTAGAATCTA'\n",
    "p = 'TCTA'"
   ]
  },
  {
   "cell_type": "code",
   "execution_count": 38,
   "metadata": {},
   "outputs": [
    {
     "name": "stdout",
     "output_type": "stream",
     "text": [
      "[7, 14]\n"
     ]
    }
   ],
   "source": [
    "index = Index(t, 2)\n",
    "print(queryIndex(p,t, index))"
   ]
  },
  {
   "cell_type": "code",
   "execution_count": 47,
   "metadata": {},
   "outputs": [],
   "source": [
    "t = 'GCTACGATCTAGAATCTA'\n",
    "p = 'TCTA'"
   ]
  },
  {
   "cell_type": "code",
   "execution_count": 48,
   "metadata": {},
   "outputs": [
    {
     "name": "stdout",
     "output_type": "stream",
     "text": [
      "G T 0\n",
      "C C 0\n",
      "T T 0\n",
      "A A 0\n",
      "C T 1\n",
      "T C 1\n",
      "A T 1\n",
      "C A 1\n",
      "T T 2\n",
      "A C 2\n",
      "C T 2\n",
      "G A 2\n",
      "A T 3\n",
      "C C 3\n",
      "G T 3\n",
      "A A 3\n",
      "C T 4\n",
      "G C 4\n",
      "A T 4\n",
      "T A 4\n",
      "G T 5\n",
      "A C 5\n",
      "T T 5\n",
      "C A 5\n",
      "A T 6\n",
      "T C 6\n",
      "C T 6\n",
      "T A 6\n",
      "T T 7\n",
      "C C 7\n",
      "T T 7\n",
      "A A 7\n",
      "C T 8\n",
      "T C 8\n",
      "A T 8\n",
      "G A 8\n",
      "T T 9\n",
      "A C 9\n",
      "G T 9\n",
      "A A 9\n",
      "A T 10\n",
      "G C 10\n",
      "A T 10\n",
      "A A 10\n",
      "G T 11\n",
      "A C 11\n",
      "A T 11\n",
      "T A 11\n",
      "A T 12\n",
      "A C 12\n",
      "T T 12\n",
      "C A 12\n",
      "A T 13\n",
      "T C 13\n",
      "C T 13\n",
      "T A 13\n",
      "T T 14\n",
      "C C 14\n",
      "T T 14\n",
      "A A 14\n"
     ]
    },
    {
     "data": {
      "text/plain": [
       "[7, 14]"
      ]
     },
     "execution_count": 48,
     "metadata": {},
     "output_type": "execute_result"
    }
   ],
   "source": [
    "naive(p,t)"
   ]
  },
  {
   "cell_type": "code",
   "execution_count": null,
   "metadata": {},
   "outputs": [],
   "source": []
  }
 ],
 "metadata": {
  "kernelspec": {
   "display_name": "Python 3",
   "language": "python",
   "name": "python3"
  },
  "language_info": {
   "codemirror_mode": {
    "name": "ipython",
    "version": 3
   },
   "file_extension": ".py",
   "mimetype": "text/x-python",
   "name": "python",
   "nbconvert_exporter": "python",
   "pygments_lexer": "ipython3",
   "version": "3.7.0"
  }
 },
 "nbformat": 4,
 "nbformat_minor": 2
}
