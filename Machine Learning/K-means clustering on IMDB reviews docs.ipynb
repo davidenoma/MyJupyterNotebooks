{
 "cells": [
  {
   "cell_type": "code",
   "execution_count": 1,
   "metadata": {},
   "outputs": [],
   "source": [
    "import csv"
   ]
  },
  {
   "cell_type": "code",
   "execution_count": 4,
   "metadata": {},
   "outputs": [],
   "source": [
    "with open(\"imdb_labelled.txt\",\"r\") as text_file:\n",
    "    lines = text_file.read().split('\\n')\n",
    "lines = [line.split(\"\\t\") for line in lines if(len(line.split(\"t\"))==2 and line.split(\"\\t\")[1] != '')]"
   ]
  },
  {
   "cell_type": "code",
   "execution_count": 5,
   "metadata": {},
   "outputs": [
    {
     "data": {
      "text/plain": [
       "[['And those baby owls were adorable.  ', '1'],\n",
       " ['It Was So Cool.  ', '1'],\n",
       " ['It is an insane game.  ', '1'],\n",
       " ['Today the graphics are crap.  ', '0'],\n",
       " [\"It's PURE BRILLIANCE.  \", '1'],\n",
       " ['Long, whiny and pointless.  ', '0'],\n",
       " ['Totally believable.  ', '1'],\n",
       " [\"Sam Shepard's portrayal of a gung ho Marine was sobering.  \", '1'],\n",
       " ['Alexander Nevsky is a great film.  ', '1'],\n",
       " ['Give this one a look.  ', '1'],\n",
       " ['I gave it a 10  ', '1'],\n",
       " ['It was horrendous.  ', '0'],\n",
       " ['Very disappointing.  ', '0'],\n",
       " ['Brilliant!  ', '1'],\n",
       " ['This was a poor remake of \"My Best Friends Wedding\".  ', '0'],\n",
       " ['The only possible way this movie could be redeemed would be as MST3K fodder.  ',\n",
       "  '0'],\n",
       " ['I paid too much.  ', '0'],\n",
       " ['It was so BORING!  ', '0'],\n",
       " ['Worst hour and a half of my life!Oh my gosh!  ', '0'],\n",
       " ['This film has no redeeming features.  ', '0'],\n",
       " ['Everything is appalling.  ', '0'],\n",
       " ['An excellent performance from Ms.  ', '1'],\n",
       " ['There were too many close ups.  ', '0'],\n",
       " ['\"You\\'ll love it!  ', '1'],\n",
       " ['The film is way too long.  ', '0'],\n",
       " ['Jamie Foxx absolutely IS Ray Charles.  ', '1'],\n",
       " ['Schrader has made a resume full of lousy, amateurish films.  ', '0'],\n",
       " ['The poor actors.  ', '0'],\n",
       " ['This would not even be good as a made for TV flick.  ', '0'],\n",
       " ['The soundtrack sucked.  ', '0'],\n",
       " ['The acting sucked.  ', '0'],\n",
       " ['That was nice.  ', '1'],\n",
       " ['That was funny.  ', '1'],\n",
       " ['It was so funny.  ', '1'],\n",
       " ['All things considered, a job very well done.  ', '1'],\n",
       " ['Thanks good a movie like this was done and released.  ', '1'],\n",
       " [\"Here's where the movie really pi**ed me off.  \", '0'],\n",
       " ['The acting was bad.  ', '0'],\n",
       " ['Kieslowski never ceases to amaze me.  ', '1'],\n",
       " ['his performance, as awarded, was stunning.  ', '1'],\n",
       " ['And I really did find them funny.  ', '1'],\n",
       " ['\" I love it.  ', '1'],\n",
       " ['This movie is terrible.  ', '0'],\n",
       " ['To call this movie a drama is ridiculous!  ', '0'],\n",
       " [\"Didn't laugh or even smile once.  \", '0'],\n",
       " ['Barney is definitely super DE duper.  ', '1'],\n",
       " ['Babie Bop is very cute.  ', '1'],\n",
       " ['The kids are very cool too.  ', '1'],\n",
       " ['It is shameful.  ', '0'],\n",
       " ['Now you know why I gave it a 10+!  ', '1'],\n",
       " ['The jerky camera movements were also annoying.  ', '0'],\n",
       " ['They could be used as exemplars for any set designer.  ', '1'],\n",
       " [\"Here, in The Wind and the Lion, we see a wonderful rendering of America's own Imperial age.  \",\n",
       "  '1'],\n",
       " ['I liked it.  ', '1'],\n",
       " ['The camera really likes her in this movie.  ', '1'],\n",
       " ['Even worse than Ticker!  ', '0'],\n",
       " ['& That movie was bad.  ', '0'],\n",
       " ['Only like 3 or 4 buildings used, a couple of locations MAYBE, & poor hummh!  ',\n",
       "  '0'],\n",
       " ['Wow, what a bad film.  ', '0'],\n",
       " ['Not even good for camp value!  ', '0'],\n",
       " ['Even the squibs look awful.  ', '0'],\n",
       " ['See it.  ', '1'],\n",
       " ['This movie is a good and humorous comment on life in 2006.  ', '1'],\n",
       " ['The cast is good.  ', '1'],\n",
       " ['The original Body and Soul (1947) is a masterpiece.  ', '1'],\n",
       " ['This may be the only bad film he ever made.  ', '0'],\n",
       " ['The script is a big flawed mess.  ', '0'],\n",
       " ['The movie is terribly boring in places.  ', '0'],\n",
       " ['The lighting is awful.  ', '0'],\n",
       " ['The visual effects were AWFUL.  ', '0'],\n",
       " ['Not recommended.  ', '0'],\n",
       " ['Not recommended.  ', '0'],\n",
       " ['Which is precisely why I am giving it such a bad review!  ', '0'],\n",
       " ['Overall, a delight!  ', '1'],\n",
       " ['Excellent performance.  ', '1'],\n",
       " ['This is a stunning movie.  ', '1'],\n",
       " ['All of the main players are mesmerising.  ', '1'],\n",
       " ['Julian Fellowes has triumphed again.  ', '1'],\n",
       " ['This is an excellent film.  ', '1'],\n",
       " ['The results, well, are a shame.  ', '0'],\n",
       " ['DELETE this film from your mind!  ', '0'],\n",
       " ['It will drive you barking mad!  ', '0'],\n",
       " ['The transfers are very good.  ', '1'],\n",
       " ['And it was boring.  ', '0'],\n",
       " ['Why was this film made?  ', '0'],\n",
       " ['This is an extraordinary film.  ', '1'],\n",
       " ['She carries the movie well.  ', '1'],\n",
       " ['This film offers many delights and surprises.  ', '1'],\n",
       " ['Conclusion - I loved it.  ', '1'],\n",
       " ['See both films if you can.  ', '1'],\n",
       " [\"It's very slow.  \", '0'],\n",
       " ['The dialogue is atrocious.  ', '0'],\n",
       " ['The acting is beyond abysmal.  ', '0'],\n",
       " ['Great movie!  ', '1'],\n",
       " ['Dee Snider just plain sucks.  ', '0'],\n",
       " ['Now this is a movie I really dislike.  ', '0'],\n",
       " ['This is not movie-making.  ', '0'],\n",
       " [\"Funny, clever, hip - just like Pray's previous film, Hype!  \", '1'],\n",
       " ['Think of the film being like a dream.  ', '1'],\n",
       " ['Simply beautiful.  ', '1'],\n",
       " ['I enjoyed it.  ', '1'],\n",
       " [';) Recommend with confidence!  ', '1'],\n",
       " ['Fans of the genre will be in heaven.  ', '1'],\n",
       " ['In a word, it is embarrassing.  ', '0'],\n",
       " ['Exceptionally bad!  ', '0']]"
      ]
     },
     "execution_count": 5,
     "metadata": {},
     "output_type": "execute_result"
    }
   ],
   "source": [
    "lines\n"
   ]
  },
  {
   "cell_type": "code",
   "execution_count": 6,
   "metadata": {},
   "outputs": [],
   "source": [
    "train_documents = [line[0] for line in lines]"
   ]
  },
  {
   "cell_type": "code",
   "execution_count": 7,
   "metadata": {},
   "outputs": [
    {
     "data": {
      "text/plain": [
       "['And those baby owls were adorable.  ',\n",
       " 'It Was So Cool.  ',\n",
       " 'It is an insane game.  ',\n",
       " 'Today the graphics are crap.  ',\n",
       " \"It's PURE BRILLIANCE.  \",\n",
       " 'Long, whiny and pointless.  ',\n",
       " 'Totally believable.  ',\n",
       " \"Sam Shepard's portrayal of a gung ho Marine was sobering.  \",\n",
       " 'Alexander Nevsky is a great film.  ',\n",
       " 'Give this one a look.  ',\n",
       " 'I gave it a 10  ',\n",
       " 'It was horrendous.  ',\n",
       " 'Very disappointing.  ',\n",
       " 'Brilliant!  ',\n",
       " 'This was a poor remake of \"My Best Friends Wedding\".  ',\n",
       " 'The only possible way this movie could be redeemed would be as MST3K fodder.  ',\n",
       " 'I paid too much.  ',\n",
       " 'It was so BORING!  ',\n",
       " 'Worst hour and a half of my life!Oh my gosh!  ',\n",
       " 'This film has no redeeming features.  ',\n",
       " 'Everything is appalling.  ',\n",
       " 'An excellent performance from Ms.  ',\n",
       " 'There were too many close ups.  ',\n",
       " '\"You\\'ll love it!  ',\n",
       " 'The film is way too long.  ',\n",
       " 'Jamie Foxx absolutely IS Ray Charles.  ',\n",
       " 'Schrader has made a resume full of lousy, amateurish films.  ',\n",
       " 'The poor actors.  ',\n",
       " 'This would not even be good as a made for TV flick.  ',\n",
       " 'The soundtrack sucked.  ',\n",
       " 'The acting sucked.  ',\n",
       " 'That was nice.  ',\n",
       " 'That was funny.  ',\n",
       " 'It was so funny.  ',\n",
       " 'All things considered, a job very well done.  ',\n",
       " 'Thanks good a movie like this was done and released.  ',\n",
       " \"Here's where the movie really pi**ed me off.  \",\n",
       " 'The acting was bad.  ',\n",
       " 'Kieslowski never ceases to amaze me.  ',\n",
       " 'his performance, as awarded, was stunning.  ',\n",
       " 'And I really did find them funny.  ',\n",
       " '\" I love it.  ',\n",
       " 'This movie is terrible.  ',\n",
       " 'To call this movie a drama is ridiculous!  ',\n",
       " \"Didn't laugh or even smile once.  \",\n",
       " 'Barney is definitely super DE duper.  ',\n",
       " 'Babie Bop is very cute.  ',\n",
       " 'The kids are very cool too.  ',\n",
       " 'It is shameful.  ',\n",
       " 'Now you know why I gave it a 10+!  ',\n",
       " 'The jerky camera movements were also annoying.  ',\n",
       " 'They could be used as exemplars for any set designer.  ',\n",
       " \"Here, in The Wind and the Lion, we see a wonderful rendering of America's own Imperial age.  \",\n",
       " 'I liked it.  ',\n",
       " 'The camera really likes her in this movie.  ',\n",
       " 'Even worse than Ticker!  ',\n",
       " '& That movie was bad.  ',\n",
       " 'Only like 3 or 4 buildings used, a couple of locations MAYBE, & poor hummh!  ',\n",
       " 'Wow, what a bad film.  ',\n",
       " 'Not even good for camp value!  ',\n",
       " 'Even the squibs look awful.  ',\n",
       " 'See it.  ',\n",
       " 'This movie is a good and humorous comment on life in 2006.  ',\n",
       " 'The cast is good.  ',\n",
       " 'The original Body and Soul (1947) is a masterpiece.  ',\n",
       " 'This may be the only bad film he ever made.  ',\n",
       " 'The script is a big flawed mess.  ',\n",
       " 'The movie is terribly boring in places.  ',\n",
       " 'The lighting is awful.  ',\n",
       " 'The visual effects were AWFUL.  ',\n",
       " 'Not recommended.  ',\n",
       " 'Not recommended.  ',\n",
       " 'Which is precisely why I am giving it such a bad review!  ',\n",
       " 'Overall, a delight!  ',\n",
       " 'Excellent performance.  ',\n",
       " 'This is a stunning movie.  ',\n",
       " 'All of the main players are mesmerising.  ',\n",
       " 'Julian Fellowes has triumphed again.  ',\n",
       " 'This is an excellent film.  ',\n",
       " 'The results, well, are a shame.  ',\n",
       " 'DELETE this film from your mind!  ',\n",
       " 'It will drive you barking mad!  ',\n",
       " 'The transfers are very good.  ',\n",
       " 'And it was boring.  ',\n",
       " 'Why was this film made?  ',\n",
       " 'This is an extraordinary film.  ',\n",
       " 'She carries the movie well.  ',\n",
       " 'This film offers many delights and surprises.  ',\n",
       " 'Conclusion - I loved it.  ',\n",
       " 'See both films if you can.  ',\n",
       " \"It's very slow.  \",\n",
       " 'The dialogue is atrocious.  ',\n",
       " 'The acting is beyond abysmal.  ',\n",
       " 'Great movie!  ',\n",
       " 'Dee Snider just plain sucks.  ',\n",
       " 'Now this is a movie I really dislike.  ',\n",
       " 'This is not movie-making.  ',\n",
       " \"Funny, clever, hip - just like Pray's previous film, Hype!  \",\n",
       " 'Think of the film being like a dream.  ',\n",
       " 'Simply beautiful.  ',\n",
       " 'I enjoyed it.  ',\n",
       " ';) Recommend with confidence!  ',\n",
       " 'Fans of the genre will be in heaven.  ',\n",
       " 'In a word, it is embarrassing.  ',\n",
       " 'Exceptionally bad!  ']"
      ]
     },
     "execution_count": 7,
     "metadata": {},
     "output_type": "execute_result"
    }
   ],
   "source": [
    "train_documents"
   ]
  },
  {
   "cell_type": "code",
   "execution_count": 9,
   "metadata": {},
   "outputs": [],
   "source": [
    "from sklearn.feature_extraction.text import TfidfVectorizer"
   ]
  },
  {
   "cell_type": "code",
   "execution_count": 12,
   "metadata": {},
   "outputs": [],
   "source": [
    "tfidf_vectorizer = TfidfVectorizer(max_df=0.5, min_df = 2, stop_words='english')\n",
    "train_documents = tfidf_vectorizer.fit_transform(train_documents)"
   ]
  },
  {
   "cell_type": "code",
   "execution_count": 13,
   "metadata": {},
   "outputs": [
    {
     "data": {
      "text/plain": [
       "<105x29 sparse matrix of type '<class 'numpy.float64'>'\n",
       "\twith 100 stored elements in Compressed Sparse Row format>"
      ]
     },
     "execution_count": 13,
     "metadata": {},
     "output_type": "execute_result"
    }
   ],
   "source": [
    "train_documents"
   ]
  },
  {
   "cell_type": "code",
   "execution_count": 17,
   "metadata": {},
   "outputs": [
    {
     "data": {
      "text/plain": [
       "<2x29 sparse matrix of type '<class 'numpy.float64'>'\n",
       "\twith 1 stored elements in Compressed Sparse Row format>"
      ]
     },
     "execution_count": 17,
     "metadata": {},
     "output_type": "execute_result"
    }
   ],
   "source": [
    "train_documents[0:2]"
   ]
  },
  {
   "cell_type": "code",
   "execution_count": 18,
   "metadata": {},
   "outputs": [],
   "source": [
    "from sklearn.cluster import KMeans"
   ]
  },
  {
   "cell_type": "code",
   "execution_count": 22,
   "metadata": {},
   "outputs": [],
   "source": [
    "km = KMeans(n_clusters=3,init='k-means++', max_iter= 100, n_init=1,verbose=True)"
   ]
  },
  {
   "cell_type": "code",
   "execution_count": 23,
   "metadata": {},
   "outputs": [
    {
     "name": "stdout",
     "output_type": "stream",
     "text": [
      "Initialization complete\n",
      "Iteration  0, inertia 54.929\n",
      "Iteration  1, inertia 51.096\n",
      "Iteration  2, inertia 50.876\n",
      "Iteration  3, inertia 50.803\n",
      "Converged at iteration 3: center shift 0.000000e+00 within tolerance 2.065392e-06\n"
     ]
    },
    {
     "data": {
      "text/plain": [
       "KMeans(algorithm='auto', copy_x=True, init='k-means++', max_iter=100,\n",
       "    n_clusters=3, n_init=1, n_jobs=1, precompute_distances='auto',\n",
       "    random_state=None, tol=0.0001, verbose=True)"
      ]
     },
     "execution_count": 23,
     "metadata": {},
     "output_type": "execute_result"
    }
   ],
   "source": [
    "km.fit(train_documents)"
   ]
  },
  {
   "cell_type": "code",
   "execution_count": 24,
   "metadata": {},
   "outputs": [
    {
     "name": "stdout",
     "output_type": "stream",
     "text": [
      "['Alexander Nevsky is a great film.  ', '1']\n",
      "['This film has no redeeming features.  ', '0']\n",
      "['Wow, what a bad film.  ', '0']\n",
      "['This may be the only bad film he ever made.  ', '0']\n"
     ]
    }
   ],
   "source": [
    "count = 0\n",
    "for i in range(len(lines)):\n",
    "    if count > 3:\n",
    "        break\n",
    "    if km.labels_[i]==0:\n",
    "        print(lines[i])\n",
    "        count += 1\n"
   ]
  },
  {
   "cell_type": "code",
   "execution_count": null,
   "metadata": {},
   "outputs": [],
   "source": [
    "    "
   ]
  }
 ],
 "metadata": {
  "kernelspec": {
   "display_name": "Python 3",
   "language": "python",
   "name": "python3"
  },
  "language_info": {
   "codemirror_mode": {
    "name": "ipython",
    "version": 3
   },
   "file_extension": ".py",
   "mimetype": "text/x-python",
   "name": "python",
   "nbconvert_exporter": "python",
   "pygments_lexer": "ipython3",
   "version": "3.7.0"
  }
 },
 "nbformat": 4,
 "nbformat_minor": 2
}
