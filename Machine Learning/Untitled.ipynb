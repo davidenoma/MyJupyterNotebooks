{
 "cells": [
  {
   "cell_type": "code",
   "execution_count": 1,
   "metadata": {},
   "outputs": [
    {
     "name": "stdout",
     "output_type": "stream",
     "text": [
      "hello world\n"
     ]
    }
   ],
   "source": [
    "print('hello world')\n"
   ]
  },
  {
   "cell_type": "markdown",
   "metadata": {},
   "source": [
    "# Getting stated with python\n",
    "\n",
    "## Basic Introduction\n",
    "\n"
   ]
  },
  {
   "cell_type": "code",
   "execution_count": 5,
   "metadata": {},
   "outputs": [
    {
     "name": "stdout",
     "output_type": "stream",
     "text": [
      "Our first float is %s int value is %s\n"
     ]
    }
   ],
   "source": [
    "print (\"Our first float is %s int value is %s\".format(13.0, 33))"
   ]
  },
  {
   "cell_type": "code",
   "execution_count": 6,
   "metadata": {},
   "outputs": [],
   "source": [
    "square = lambda x : x * x"
   ]
  },
  {
   "cell_type": "code",
   "execution_count": 7,
   "metadata": {},
   "outputs": [
    {
     "data": {
      "text/plain": [
       "9"
      ]
     },
     "execution_count": 7,
     "metadata": {},
     "output_type": "execute_result"
    }
   ],
   "source": [
    "square(3)"
   ]
  },
  {
   "cell_type": "code",
   "execution_count": 10,
   "metadata": {},
   "outputs": [
    {
     "name": "stdout",
     "output_type": "stream",
     "text": [
      "Collecting turicreate\n",
      "  Downloading turicreate-6.0.tar.gz (1.9 kB)\n",
      "Building wheels for collected packages: turicreate\n",
      "  Building wheel for turicreate (setup.py): started\n",
      "  Building wheel for turicreate (setup.py): finished with status 'error'\n",
      "  Running setup.py clean for turicreate\n",
      "Failed to build turicreate\n",
      "Installing collected packages: turicreate\n",
      "    Running setup.py install for turicreate: started\n",
      "    Running setup.py install for turicreate: finished with status 'error'\n",
      "Note: you may need to restart the kernel to use updated packages.\n"
     ]
    },
    {
     "name": "stderr",
     "output_type": "stream",
     "text": [
      "  ERROR: Command errored out with exit status 1:\n",
      "   command: 'C:\\Users\\kora\\anaconda3\\python.exe' -u -c 'import sys, setuptools, tokenize; sys.argv[0] = '\"'\"'C:\\\\Users\\\\kora\\\\AppData\\\\Local\\\\Temp\\\\pip-install-_omw8ste\\\\turicreate\\\\setup.py'\"'\"'; __file__='\"'\"'C:\\\\Users\\\\kora\\\\AppData\\\\Local\\\\Temp\\\\pip-install-_omw8ste\\\\turicreate\\\\setup.py'\"'\"';f=getattr(tokenize, '\"'\"'open'\"'\"', open)(__file__);code=f.read().replace('\"'\"'\\r\\n'\"'\"', '\"'\"'\\n'\"'\"');f.close();exec(compile(code, __file__, '\"'\"'exec'\"'\"'))' bdist_wheel -d 'C:\\Users\\kora\\AppData\\Local\\Temp\\pip-wheel-mrdfmsiw'\n",
      "       cwd: C:\\Users\\kora\\AppData\\Local\\Temp\\pip-install-_omw8ste\\turicreate\\\n",
      "  Complete output (31 lines):\n",
      "  running bdist_wheel\n",
      "  running build\n",
      "  installing to build\\bdist.win-amd64\\wheel\n",
      "  running install\n",
      "  \n",
      "  \n",
      "  \n",
      "          ==================================================================================\n",
      "          TURICREATE ERROR\n",
      "  \n",
      "          If you see this message, pip install did not find an available binary package\n",
      "          for your system.\n",
      "  \n",
      "          Supported Platforms:\n",
      "              * macOS 10.12+ x86_64.\n",
      "              * Linux x86_64 (including WSL on Windows 10).\n",
      "  \n",
      "          Support Python Versions:\n",
      "              * 2.7\n",
      "              * 3.5\n",
      "              * 3.6\n",
      "              * 3.7\n",
      "  \n",
      "  \n",
      "          Another possible cause of this error is an outdated pip version. Try:\n",
      "              `pip install -U pip`\n",
      "  \n",
      "          ==================================================================================\n",
      "  \n",
      "  \n",
      "  \n",
      "  ----------------------------------------\n",
      "  ERROR: Failed building wheel for turicreate\n",
      "    ERROR: Command errored out with exit status 1:\n",
      "     command: 'C:\\Users\\kora\\anaconda3\\python.exe' -u -c 'import sys, setuptools, tokenize; sys.argv[0] = '\"'\"'C:\\\\Users\\\\kora\\\\AppData\\\\Local\\\\Temp\\\\pip-install-_omw8ste\\\\turicreate\\\\setup.py'\"'\"'; __file__='\"'\"'C:\\\\Users\\\\kora\\\\AppData\\\\Local\\\\Temp\\\\pip-install-_omw8ste\\\\turicreate\\\\setup.py'\"'\"';f=getattr(tokenize, '\"'\"'open'\"'\"', open)(__file__);code=f.read().replace('\"'\"'\\r\\n'\"'\"', '\"'\"'\\n'\"'\"');f.close();exec(compile(code, __file__, '\"'\"'exec'\"'\"'))' install --record 'C:\\Users\\kora\\AppData\\Local\\Temp\\pip-record-k6sfcf7q\\install-record.txt' --single-version-externally-managed --compile --install-headers 'C:\\Users\\kora\\anaconda3\\Include\\turicreate'\n",
      "         cwd: C:\\Users\\kora\\AppData\\Local\\Temp\\pip-install-_omw8ste\\turicreate\\\n",
      "    Complete output (28 lines):\n",
      "    running install\n",
      "    \n",
      "    \n",
      "    \n",
      "            ==================================================================================\n",
      "            TURICREATE ERROR\n",
      "    \n",
      "            If you see this message, pip install did not find an available binary package\n",
      "            for your system.\n",
      "    \n",
      "            Supported Platforms:\n",
      "                * macOS 10.12+ x86_64.\n",
      "                * Linux x86_64 (including WSL on Windows 10).\n",
      "    \n",
      "            Support Python Versions:\n",
      "                * 2.7\n",
      "                * 3.5\n",
      "                * 3.6\n",
      "                * 3.7\n",
      "    \n",
      "    \n",
      "            Another possible cause of this error is an outdated pip version. Try:\n",
      "                `pip install -U pip`\n",
      "    \n",
      "            ==================================================================================\n",
      "    \n",
      "    \n",
      "    \n",
      "    ----------------------------------------\n",
      "ERROR: Command errored out with exit status 1: 'C:\\Users\\kora\\anaconda3\\python.exe' -u -c 'import sys, setuptools, tokenize; sys.argv[0] = '\"'\"'C:\\\\Users\\\\kora\\\\AppData\\\\Local\\\\Temp\\\\pip-install-_omw8ste\\\\turicreate\\\\setup.py'\"'\"'; __file__='\"'\"'C:\\\\Users\\\\kora\\\\AppData\\\\Local\\\\Temp\\\\pip-install-_omw8ste\\\\turicreate\\\\setup.py'\"'\"';f=getattr(tokenize, '\"'\"'open'\"'\"', open)(__file__);code=f.read().replace('\"'\"'\\r\\n'\"'\"', '\"'\"'\\n'\"'\"');f.close();exec(compile(code, __file__, '\"'\"'exec'\"'\"'))' install --record 'C:\\Users\\kora\\AppData\\Local\\Temp\\pip-record-k6sfcf7q\\install-record.txt' --single-version-externally-managed --compile --install-headers 'C:\\Users\\kora\\anaconda3\\Include\\turicreate' Check the logs for full command output.\n"
     ]
    }
   ],
   "source": [
    "pip install turicreate"
   ]
  },
  {
   "cell_type": "code",
   "execution_count": 11,
   "metadata": {},
   "outputs": [
    {
     "ename": "ModuleNotFoundError",
     "evalue": "No module named 'turicreate'",
     "output_type": "error",
     "traceback": [
      "\u001b[1;31m---------------------------------------------------------------------------\u001b[0m",
      "\u001b[1;31mModuleNotFoundError\u001b[0m                       Traceback (most recent call last)",
      "\u001b[1;32m<ipython-input-11-1b519f14fefb>\u001b[0m in \u001b[0;36m<module>\u001b[1;34m\u001b[0m\n\u001b[1;32m----> 1\u001b[1;33m \u001b[1;32mimport\u001b[0m \u001b[0mturicreate\u001b[0m\u001b[1;33m\u001b[0m\u001b[1;33m\u001b[0m\u001b[0m\n\u001b[0m",
      "\u001b[1;31mModuleNotFoundError\u001b[0m: No module named 'turicreate'"
     ]
    }
   ],
   "source": [
    "import turicreate"
   ]
  },
  {
   "cell_type": "code",
   "execution_count": 12,
   "metadata": {},
   "outputs": [
    {
     "name": "stdout",
     "output_type": "stream",
     "text": [
      "Collecting turicreate\n",
      "  Using cached turicreate-6.0.tar.gz (1.9 kB)\n",
      "Building wheels for collected packages: turicreate\n",
      "  Building wheel for turicreate (setup.py): started\n",
      "  Building wheel for turicreate (setup.py): finished with status 'error'\n",
      "  Running setup.py clean for turicreate\n",
      "Failed to build turicreate\n",
      "Installing collected packages: turicreate\n",
      "    Running setup.py install for turicreate: started\n",
      "    Running setup.py install for turicreate: finished with status 'error'\n",
      "Note: you may need to restart the kernel to use updated packages.\n"
     ]
    },
    {
     "name": "stderr",
     "output_type": "stream",
     "text": [
      "  ERROR: Command errored out with exit status 1:\n",
      "   command: 'C:\\Users\\kora\\anaconda3\\python.exe' -u -c 'import sys, setuptools, tokenize; sys.argv[0] = '\"'\"'C:\\\\Users\\\\kora\\\\AppData\\\\Local\\\\Temp\\\\pip-install-7r3rsm20\\\\turicreate\\\\setup.py'\"'\"'; __file__='\"'\"'C:\\\\Users\\\\kora\\\\AppData\\\\Local\\\\Temp\\\\pip-install-7r3rsm20\\\\turicreate\\\\setup.py'\"'\"';f=getattr(tokenize, '\"'\"'open'\"'\"', open)(__file__);code=f.read().replace('\"'\"'\\r\\n'\"'\"', '\"'\"'\\n'\"'\"');f.close();exec(compile(code, __file__, '\"'\"'exec'\"'\"'))' bdist_wheel -d 'C:\\Users\\kora\\AppData\\Local\\Temp\\pip-wheel-atc_35a2'\n",
      "       cwd: C:\\Users\\kora\\AppData\\Local\\Temp\\pip-install-7r3rsm20\\turicreate\\\n",
      "  Complete output (31 lines):\n",
      "  running bdist_wheel\n",
      "  running build\n",
      "  installing to build\\bdist.win-amd64\\wheel\n",
      "  running install\n",
      "  \n",
      "  \n",
      "  \n",
      "          ==================================================================================\n",
      "          TURICREATE ERROR\n",
      "  \n",
      "          If you see this message, pip install did not find an available binary package\n",
      "          for your system.\n",
      "  \n",
      "          Supported Platforms:\n",
      "              * macOS 10.12+ x86_64.\n",
      "              * Linux x86_64 (including WSL on Windows 10).\n",
      "  \n",
      "          Support Python Versions:\n",
      "              * 2.7\n",
      "              * 3.5\n",
      "              * 3.6\n",
      "              * 3.7\n",
      "  \n",
      "  \n",
      "          Another possible cause of this error is an outdated pip version. Try:\n",
      "              `pip install -U pip`\n",
      "  \n",
      "          ==================================================================================\n",
      "  \n",
      "  \n",
      "  \n",
      "  ----------------------------------------\n",
      "  ERROR: Failed building wheel for turicreate\n",
      "    ERROR: Command errored out with exit status 1:\n",
      "     command: 'C:\\Users\\kora\\anaconda3\\python.exe' -u -c 'import sys, setuptools, tokenize; sys.argv[0] = '\"'\"'C:\\\\Users\\\\kora\\\\AppData\\\\Local\\\\Temp\\\\pip-install-7r3rsm20\\\\turicreate\\\\setup.py'\"'\"'; __file__='\"'\"'C:\\\\Users\\\\kora\\\\AppData\\\\Local\\\\Temp\\\\pip-install-7r3rsm20\\\\turicreate\\\\setup.py'\"'\"';f=getattr(tokenize, '\"'\"'open'\"'\"', open)(__file__);code=f.read().replace('\"'\"'\\r\\n'\"'\"', '\"'\"'\\n'\"'\"');f.close();exec(compile(code, __file__, '\"'\"'exec'\"'\"'))' install --record 'C:\\Users\\kora\\AppData\\Local\\Temp\\pip-record-fntkq1u8\\install-record.txt' --single-version-externally-managed --compile --install-headers 'C:\\Users\\kora\\anaconda3\\Include\\turicreate'\n",
      "         cwd: C:\\Users\\kora\\AppData\\Local\\Temp\\pip-install-7r3rsm20\\turicreate\\\n",
      "    Complete output (28 lines):\n",
      "    running install\n",
      "    \n",
      "    \n",
      "    \n",
      "            ==================================================================================\n",
      "            TURICREATE ERROR\n",
      "    \n",
      "            If you see this message, pip install did not find an available binary package\n",
      "            for your system.\n",
      "    \n",
      "            Supported Platforms:\n",
      "                * macOS 10.12+ x86_64.\n",
      "                * Linux x86_64 (including WSL on Windows 10).\n",
      "    \n",
      "            Support Python Versions:\n",
      "                * 2.7\n",
      "                * 3.5\n",
      "                * 3.6\n",
      "                * 3.7\n",
      "    \n",
      "    \n",
      "            Another possible cause of this error is an outdated pip version. Try:\n",
      "                `pip install -U pip`\n",
      "    \n",
      "            ==================================================================================\n",
      "    \n",
      "    \n",
      "    \n",
      "    ----------------------------------------\n",
      "ERROR: Command errored out with exit status 1: 'C:\\Users\\kora\\anaconda3\\python.exe' -u -c 'import sys, setuptools, tokenize; sys.argv[0] = '\"'\"'C:\\\\Users\\\\kora\\\\AppData\\\\Local\\\\Temp\\\\pip-install-7r3rsm20\\\\turicreate\\\\setup.py'\"'\"'; __file__='\"'\"'C:\\\\Users\\\\kora\\\\AppData\\\\Local\\\\Temp\\\\pip-install-7r3rsm20\\\\turicreate\\\\setup.py'\"'\"';f=getattr(tokenize, '\"'\"'open'\"'\"', open)(__file__);code=f.read().replace('\"'\"'\\r\\n'\"'\"', '\"'\"'\\n'\"'\"');f.close();exec(compile(code, __file__, '\"'\"'exec'\"'\"'))' install --record 'C:\\Users\\kora\\AppData\\Local\\Temp\\pip-record-fntkq1u8\\install-record.txt' --single-version-externally-managed --compile --install-headers 'C:\\Users\\kora\\anaconda3\\Include\\turicreate' Check the logs for full command output.\n"
     ]
    }
   ],
   "source": [
    "pip install -U turicreate"
   ]
  }
 ],
 "metadata": {
  "kernelspec": {
   "display_name": "Python 3",
   "language": "python",
   "name": "python3"
  },
  "language_info": {
   "codemirror_mode": {
    "name": "ipython",
    "version": 3
   },
   "file_extension": ".py",
   "mimetype": "text/x-python",
   "name": "python",
   "nbconvert_exporter": "python",
   "pygments_lexer": "ipython3",
   "version": "3.7.6"
  }
 },
 "nbformat": 4,
 "nbformat_minor": 4
}
